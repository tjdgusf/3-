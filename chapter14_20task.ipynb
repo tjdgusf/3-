{
 "cells": [
  {
   "cell_type": "markdown",
   "id": "b66b7644",
   "metadata": {},
   "source": [
    "CREATE DATABASE LSHGG_DB;\n",
    "USE LSHGG_DB;\n",
    "CREATE TABLE employees (\n",
    "   id INT AUTO_INCREMENT PRIMARY KEY,\n",
    "    name VARCHAR(100),\n",
    "    position VARCHAR(100),\n",
    "    salary DECIMAL(10,2)\n",
    "    );\n",
    "    INSERT INTO employees(name, position, salary) VALUES\n",
    "\t('혜린', 'PM', 90000),\n",
    "    ('혜린', 'Frontend', 80000),\n",
    "    ('가을', 'Backend', 92000),\n",
    "    ('지수', 'Frontend', 78000),\n",
    "    ('민혁', 'Frontend', 96000),\n",
    "    ('하온', 'Backend', 130000);\n",
    " SELECT name, salary FROM employees;\n",
    "SELECT * FROM employees WHERE position = 'Frontend' and salary <= 90000;\n",
    "SET SQL_SAFE_UPDATES = 0;\n",
    "UPDATE employees\n",
    "SET salary = salary * 1.10\n",
    "WHERE position = 'PM';\n",
    "-- SELECT * FROM employees;\n",
    "SET SQL_SAFE_UPDATES = 0;\n",
    "UPDATE employees\n",
    "SET salary = salary * 1.05\n",
    "WHERE position = 'Backend';\n",
    "-- SELECT * FROM employees;\n",
    "DELETE FROM employees\n",
    "WHERE name = '민혁';\n",
    "-- SELECT * FROM employees;\n",
    "SELECT position, AVG(salary) AS average_salary FROM employees \n",
    "GROUP BY position;\n"
   ]
  }
 ],
 "metadata": {
  "language_info": {
   "name": "python"
  }
 },
 "nbformat": 4,
 "nbformat_minor": 5
}
