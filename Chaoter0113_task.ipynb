{
 "cells": [
  {
   "cell_type": "markdown",
   "id": "62886b53",
   "metadata": {},
   "source": [
    "안녕하세요. 수강생 여러분~!\n",
    "\n",
    "Chapter01 ~ 13의 수업 내용을 바탕으로 아래 문제를 풀어주시면 됩니다 !\n",
    "\n",
    "지금까지 잘 해오셨으니까, 총 복습한다고 생각하시고 한번 도전해보세요 !!!\n",
    "\n",
    "\n",
    "[답변 입력 방법]\n",
    "\n",
    "문제 아래에 있는 코드 입력창에 정답코드를 작성하신 후 ▷ 버튼을 클릭해 코드를 실행 해보세요\n",
    "\n",
    "프로젝트: 간단한 ATM 관리 시스템\n",
    "\n",
    "[문제 1: 잔액 확인]\n",
    "\n",
    "현재 잔액은 1000원입니다. 현재 잔액을 출력하세요.\n",
    "\n",
    "(변수명 예시 : 잔액 - balance)"
   ]
  },
  {
   "cell_type": "code",
   "execution_count": 1,
   "id": "16a868c2",
   "metadata": {},
   "outputs": [
    {
     "name": "stdout",
     "output_type": "stream",
     "text": [
      "현재 잔액은 1000원 입니다.\n"
     ]
    }
   ],
   "source": [
    "balance = 1000\n",
    "print(f'현재 잔액은 {balance}원 입니다.')"
   ]
  },
  {
   "cell_type": "markdown",
   "id": "9d9a914e",
   "metadata": {},
   "source": [
    "[문제 2: 입금]\n",
    "\n",
    "가지고 있는 돈을 입금합니다.\n",
    "\n",
    "입금 금액을 입력받고, 잔액을 갱신한 후 새로운 잔액을 출력하세요. 입금 거래를 영수증 리스트에 기록하세요.\n",
    "\n",
    "입금 금액은 input()을 이용해 받습니다.\n",
    "영수증은 list()로 선언합니다.\n",
    "영수증에 들어가는 정보는 튜플 형태입니다.\n",
    "튜플에 담기는 정보는 (입금 or 출금, 입금 or 출금 금액, 현재 잔액)순 입니다.\n",
    "(변수명 예시: 영수증 리스트 - receipts, 입금 금액 - deposit_amount)"
   ]
  },
  {
   "cell_type": "code",
   "execution_count": 10,
   "id": "5767c7e7",
   "metadata": {},
   "outputs": [
    {
     "name": "stdout",
     "output_type": "stream",
     "text": [
      "최종 잔액은 5000원 입니다.\n"
     ]
    }
   ],
   "source": [
    "deposit_amount = int(input('입금할 금액을 입력하세요:'))\n",
    "balance += deposit_amount\n",
    "print(f'최종 잔액은 {balance}원 입니다.')\n",
    "receipts = []\n",
    "receipts.append(('입금',deposit_amount, balance))\n"
   ]
  },
  {
   "cell_type": "markdown",
   "id": "aee4ac3e",
   "metadata": {},
   "source": [
    "[문제 3: 출금]\n",
    "\n",
    "사용자가 돈을 출금합니다. 출금 금액을 입력받고, 잔액을 갱신한 후 새로운 잔액을 출력하세요. 출금 거래를 영수증 리스트에 기록하세요.\n",
    "\n",
    "출금 금액은 input()을 이용해 받습니다.\n",
    "현재 잔액보다 출금 요청 금액이 많을 경우 현재 잔액 만큼만 출금되도록 합니다.\n",
    "영수증에 들어가는 정보는 튜플 형태입니다.\n",
    "튜플에 담기는 정보는 (입금 or 출금, 입금 or 출금 금액, 현재 잔액)순 입니다.\n",
    "(변수명 예시: 출금금액 - withdraw_amount)"
   ]
  },
  {
   "cell_type": "code",
   "execution_count": 11,
   "id": "a713dc92",
   "metadata": {},
   "outputs": [
    {
     "name": "stdout",
     "output_type": "stream",
     "text": [
      "최종 잔액은 2000원 입니다.\n"
     ]
    }
   ],
   "source": [
    "withdraw_amount = int(input('출금할 금액을 입력하세요:'))\n",
    "balance -= withdraw_amount\n",
    "print(f'최종 잔액은 {balance}원 입니다.')\n",
    "receipts.append(('출금',withdraw_amount, balance))"
   ]
  },
  {
   "cell_type": "markdown",
   "id": "0f3cba2a",
   "metadata": {},
   "source": [
    "[문제 4: 모든 거래 내역 확인]\n",
    "\n",
    "모든 거래 내역(영수증)을 요청받았을 때 출력하세요.\n",
    "\n",
    "지금까지 영수증에 추가된 정보를 출력합니다.\n",
    "출력 형태는 자유입니다."
   ]
  },
  {
   "cell_type": "code",
   "execution_count": 12,
   "id": "d2a04726",
   "metadata": {},
   "outputs": [
    {
     "name": "stdout",
     "output_type": "stream",
     "text": [
      "4000원 입금하여 잔액은 5000원 입니다.\n",
      "3000원 출금하여 잔액은 2000원 입니다.\n"
     ]
    }
   ],
   "source": [
    "for i in receipts:\n",
    "    print(f'{i[1]}원 {i[0]}하여 잔액은 {i[2]}원 입니다.')"
   ]
  }
 ],
 "metadata": {
  "kernelspec": {
   "display_name": "github.com",
   "language": "python",
   "name": "python3"
  },
  "language_info": {
   "codemirror_mode": {
    "name": "ipython",
    "version": 3
   },
   "file_extension": ".py",
   "mimetype": "text/x-python",
   "name": "python",
   "nbconvert_exporter": "python",
   "pygments_lexer": "ipython3",
   "version": "3.13.7"
  }
 },
 "nbformat": 4,
 "nbformat_minor": 5
}
