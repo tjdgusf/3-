{
 "cells": [
  {
   "cell_type": "markdown",
   "id": "0b554baa",
   "metadata": {},
   "source": [
    "안녕하세요. 수강생 여러분~! Chapter09 ~ 13 수업은 잘 들으셨나요?\n",
    "\n",
    "Chapter09 ~ 13의 수업 내용을 바탕으로 아래 문제를 풀어주시면 됩니다.\n",
    "\n",
    "\n",
    "[답변 입력 방법]\n",
    "\n",
    "문제 아래에 있는 코드 입력창에 정답코드를 작성하신 후 ▷ 버튼을 클릭해 코드를 실행 해보세요\n",
    "\n",
    "[문제0]\n",
    "\n",
    "오즈 코딩 스쿨 백엔드 8기 과정에 참여한 수강생 중 3명의 수강생이 자율적으로 스터디 그룹을 결성했습니다.\n",
    "\n",
    "스터디 그룹 내에는 한 주간 배운 내용으로 매주 쪽지 시험을 보는 룰이 있습니다. 점수는 채점자 마음입니다.\n",
    "\n",
    "쪽지 시험의 점수를 직접 입력받고, 점수의 합을 출력해주세요!"
   ]
  },
  {
   "cell_type": "code",
   "execution_count": 1,
   "id": "5748c25f",
   "metadata": {},
   "outputs": [
    {
     "name": "stdout",
     "output_type": "stream",
     "text": [
      "15\n"
     ]
    }
   ],
   "source": [
    "st1 = int(input('1번 학생의 점수를 입력하시오:'))\n",
    "st2 = int(input('2번 학생의 점수를 입력하시오:'))\n",
    "st3 = int(input('3번 학생의 점수를 입력하시오:'))\n",
    "total = st1+st2+st3\n",
    "print(total)"
   ]
  },
  {
   "cell_type": "markdown",
   "id": "75ad0dfd",
   "metadata": {},
   "source": [
    "[문제1]\n",
    "\n",
    "movie_rank 리스트에는 아래와 같이 네 개의 영화 제목이 바인딩되어 있다.\n",
    "\n",
    "\"비밀\"을 \"나폴레옹\"과 \"괴물\" 사이에 추가해주세요"
   ]
  },
  {
   "cell_type": "code",
   "execution_count": 2,
   "id": "1327d180",
   "metadata": {},
   "outputs": [
    {
     "name": "stdout",
     "output_type": "stream",
     "text": [
      "['서울의 봄', '나폴레옹', '비밀', '괴물', '베트맨']\n"
     ]
    }
   ],
   "source": [
    "movie = ['서울의 봄', '나폴레옹', '괴물', '베트맨']\n",
    "movie.insert(2, '비밀')\n",
    "print(movie)"
   ]
  },
  {
   "cell_type": "markdown",
   "id": "cd33580b",
   "metadata": {},
   "source": [
    "[문제1-2]\n",
    "\n",
    "movie_rank 리스트에서 '베트맨'를 삭제해주세요"
   ]
  },
  {
   "cell_type": "code",
   "execution_count": 3,
   "id": "b4152b28",
   "metadata": {},
   "outputs": [
    {
     "name": "stdout",
     "output_type": "stream",
     "text": [
      "['서울의 봄', '나폴레옹', '비밀', '괴물']\n"
     ]
    }
   ],
   "source": [
    "movie = ['서울의 봄', '나폴레옹', '비밀', '괴물', '베트맨']\n",
    "movie.remove('베트맨')\n",
    "print(movie)"
   ]
  },
  {
   "cell_type": "markdown",
   "id": "a155b7ca",
   "metadata": {},
   "source": [
    "[문제2]\n",
    "\n",
    "[언어1]과 [언어2] 리스트가 있을 때 언어1과 언어2의 원소를 모두 갖고 있는 [언어모음]이라는 list를 만들어주세요\n",
    "\n",
    "lang1 = [\"C\", \"C++\", \"JAVA\"]\n",
    "lang2 = [\"Python\", \"Go\", \"C#\"]\n",
    "실행 예) 언어들 ['C', 'C++', 'JAVA', 'Python', 'Go', 'C#']"
   ]
  },
  {
   "cell_type": "code",
   "execution_count": 4,
   "id": "695b51dc",
   "metadata": {},
   "outputs": [
    {
     "name": "stdout",
     "output_type": "stream",
     "text": [
      "['C', 'C++', 'JAVA', 'Python', 'Go', 'C#']\n"
     ]
    }
   ],
   "source": [
    "lang1 = [\"C\", \"C++\", \"JAVA\"]\n",
    "lang2 = [\"Python\", \"Go\", \"C#\"]\n",
    "언어모음 = lang1 + lang2\n",
    "print(언어모음)"
   ]
  },
  {
   "cell_type": "markdown",
   "id": "6efc4da0",
   "metadata": {},
   "source": [
    "[문제3]\n",
    "\n",
    "다음 리스트에서 최댓값과 최솟값, 그리고 평균을 출력해주세요.\n",
    "nums = [1, 2, 3, 4, 5, 6, 7, 9, 10]"
   ]
  },
  {
   "cell_type": "code",
   "execution_count": 5,
   "id": "9d530ce9",
   "metadata": {},
   "outputs": [
    {
     "name": "stdout",
     "output_type": "stream",
     "text": [
      "10\n",
      "1\n",
      "5.222222222222222\n"
     ]
    }
   ],
   "source": [
    "nums = [1, 2, 3, 4, 5, 6, 7, 9, 10]\n",
    "print(max(nums))\n",
    "print(min(nums))\n",
    "print(sum(nums)/len(nums))"
   ]
  },
  {
   "cell_type": "markdown",
   "id": "9060939e",
   "metadata": {},
   "source": [
    "[문제4]\n",
    "\n",
    "다음 리스트에 저장된 데이터의 개수를 화면에 구해주세요\n",
    "\n",
    "cook = [\"피자\", \"김밥\", \"만두\", \"양념치킨\", \"족발\", \"피자\", \"김치만두\", \"쫄면\"]"
   ]
  },
  {
   "cell_type": "code",
   "execution_count": 6,
   "id": "7334c92e",
   "metadata": {},
   "outputs": [
    {
     "data": {
      "text/plain": [
       "8"
      ]
     },
     "execution_count": 6,
     "metadata": {},
     "output_type": "execute_result"
    }
   ],
   "source": [
    "cook = [\"피자\", \"김밥\", \"만두\", \"양념치킨\", \"족발\", \"피자\", \"김치만두\", \"쫄면\"]\n",
    "len(cook)"
   ]
  },
  {
   "cell_type": "markdown",
   "id": "f726fb31",
   "metadata": {},
   "source": [
    "[문제5]\n",
    "\n",
    "price 변수에는 날짜와 종가 정보가 저장돼 있습니다. 날짜 정보를 제외하고 가격 정보만을 출력해주세요\n",
    "\n",
    "price = ['20180728', 100, 130, 140, 150, 160, 170]\n",
    "\n",
    "출력 예) [100, 130, 140, 150, 160, 170]"
   ]
  },
  {
   "cell_type": "code",
   "execution_count": 7,
   "id": "543eec13",
   "metadata": {},
   "outputs": [
    {
     "name": "stdout",
     "output_type": "stream",
     "text": [
      "[100, 130, 140, 150, 160, 170]\n"
     ]
    }
   ],
   "source": [
    "price = ['20180728', 100, 130, 140, 150, 160, 170]\n",
    "print(price[1:])"
   ]
  },
  {
   "cell_type": "markdown",
   "id": "cff9eb7e",
   "metadata": {},
   "source": [
    "[문제6]\n",
    "\n",
    "\n",
    "다음 딕셔너리를 사용하여 메로나 가격을 출력해주세요\n",
    "ice = {'메로나': 1000,\n",
    "    '폴로포': 1200,\n",
    "    '빵빠레': 1800,\n",
    "    '죠스바': 1200,\n",
    "    '월드콘': 1500}\n",
    "\n",
    "출력 예) 메로나 가격: 1000"
   ]
  },
  {
   "cell_type": "code",
   "execution_count": 8,
   "id": "37fa809e",
   "metadata": {},
   "outputs": [
    {
     "name": "stdout",
     "output_type": "stream",
     "text": [
      "메로나 가격: 1000\n"
     ]
    }
   ],
   "source": [
    "ice = dict(메로나=1000, 폴로포=1200, 빵빠레=1800, 죠스바=1200, 원드콘=1500)\n",
    "print(f'메로나 가격: {ice[\"메로나\"]}')"
   ]
  },
  {
   "cell_type": "markdown",
   "id": "fbd83828",
   "metadata": {},
   "source": [
    "[문제6-1]\n",
    "\n",
    "다음 딕셔너리에서 메로나의 가격을 1300으로 수정해주세요\n",
    "\n",
    "ice = {'메로나': 1000,\n",
    "    '폴로포': 1200,\n",
    "    '빵빠레': 1800,\n",
    "    '죠스바': 1200,\n",
    "    '월드콘': 1500}"
   ]
  },
  {
   "cell_type": "code",
   "execution_count": 9,
   "id": "b2dff815",
   "metadata": {},
   "outputs": [
    {
     "name": "stdout",
     "output_type": "stream",
     "text": [
      "{'메로나': 1300, '폴로포': 1200, '빵빠레': 1800, '죠스바': 1200, '원드콘': 1500}\n"
     ]
    }
   ],
   "source": [
    "ice = dict(메로나=1000, 폴로포=1200, 빵빠레=1800, 죠스바=1200, 원드콘=1500)\n",
    "ice.update(메로나=1300)\n",
    "print(ice)"
   ]
  },
  {
   "cell_type": "markdown",
   "id": "273aa42f",
   "metadata": {},
   "source": [
    "[문제7]\n",
    "\n",
    "아래 순서대로 주어진 수강생 이름과 등급을 하나의 딕셔너리로 만드는 코드를 작성해주세요\n",
    "\n",
    "names : 나이썬, 김자바, 김씨, 박씨샵\n",
    "grades : B B A C"
   ]
  },
  {
   "cell_type": "code",
   "execution_count": 10,
   "id": "73d521ca",
   "metadata": {},
   "outputs": [
    {
     "name": "stdout",
     "output_type": "stream",
     "text": [
      "{'나이썬': 'B', '김자바': 'B', '김씨': 'A', '박씨샵': 'C'}\n"
     ]
    }
   ],
   "source": [
    "names = ['나이썬', '김자바', '김씨', '박씨샵']\n",
    "grades = ['B','B','A','C']\n",
    "result = dict(zip(names, grades))\n",
    "print(result)"
   ]
  },
  {
   "cell_type": "markdown",
   "id": "44f1a1a4",
   "metadata": {},
   "source": [
    "[문제8]\n",
    "\n",
    "아래 ice 딕셔너리에 데이터를 추가 후 출력해주세요\n",
    "\n",
    "ice = {\"메로나\": [300, 20],\n",
    "\"비비빅\": [400, 3],\n",
    "\"죠스바\": [250, 100]}\n",
    "\n",
    "추가해야하는 데이터) 이름 : 보석바, 가격:650, 재고:10"
   ]
  },
  {
   "cell_type": "code",
   "execution_count": 11,
   "id": "38041ea3",
   "metadata": {},
   "outputs": [
    {
     "name": "stdout",
     "output_type": "stream",
     "text": [
      "{'메로나': [300, 20], '비비빅': [400, 3], '죠스바': [250, 100], '보석바': [650, 10]}\n"
     ]
    }
   ],
   "source": [
    "ice = dict(메로나=[300,20], 비비빅=[400,3], 죠스바=[250,100])\n",
    "ice.update(보석바=[650,10])\n",
    "print(ice)"
   ]
  },
  {
   "cell_type": "markdown",
   "id": "2a886b62",
   "metadata": {},
   "source": [
    "[문제9]\n",
    "\n",
    "아래 딕셔너리에서 key만 list 형태로 출력해주세요\n",
    "\n",
    "ice = {'메로나': 1000, '폴로포': 1200, '빵빠레': 1800, '죠스바': 1200, '월드콘': 1500}"
   ]
  },
  {
   "cell_type": "code",
   "execution_count": 12,
   "id": "9ad13305",
   "metadata": {},
   "outputs": [
    {
     "name": "stdout",
     "output_type": "stream",
     "text": [
      "['메로나', '폴로포', '빵빠레', '죠스바', '월드콘']\n"
     ]
    }
   ],
   "source": [
    "ice = {'메로나': 1000, '폴로포': 1200, '빵빠레': 1800, '죠스바': 1200, '월드콘': 1500}\n",
    "print(list(ice.keys()))"
   ]
  }
 ],
 "metadata": {
  "kernelspec": {
   "display_name": "github.com",
   "language": "python",
   "name": "python3"
  },
  "language_info": {
   "codemirror_mode": {
    "name": "ipython",
    "version": 3
   },
   "file_extension": ".py",
   "mimetype": "text/x-python",
   "name": "python",
   "nbconvert_exporter": "python",
   "pygments_lexer": "ipython3",
   "version": "3.13.7"
  }
 },
 "nbformat": 4,
 "nbformat_minor": 5
}
